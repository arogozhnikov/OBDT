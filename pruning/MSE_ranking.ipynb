{
 "cells": [
  {
   "cell_type": "markdown",
   "metadata": {},
   "source": [
    "## Let's try to use EventFilter regressor for ranking problems"
   ]
  },
  {
   "cell_type": "code",
   "execution_count": 1,
   "metadata": {
    "collapsed": false
   },
   "outputs": [
    {
     "name": "stdout",
     "output_type": "stream",
     "text": [
      "Populating the interactive namespace from numpy and matplotlib\n"
     ]
    }
   ],
   "source": [
    "%pylab inline"
   ]
  },
  {
   "cell_type": "code",
   "execution_count": 6,
   "metadata": {
    "collapsed": true
   },
   "outputs": [],
   "source": [
    "import h5py\n",
    "import pandas\n",
    "from sklearn.metrics import mean_squared_error"
   ]
  },
  {
   "cell_type": "code",
   "execution_count": 7,
   "metadata": {
    "collapsed": true
   },
   "outputs": [],
   "source": [
    "def load_h5(name):\n",
    "    print \"reading from\",name\n",
    "    h5f = h5py.File(name,'r')\n",
    "    labels = h5f['labels'][:]\n",
    "    qids = h5f['qids'][:]\n",
    "    features = h5f['features'][:]\n",
    "    h5f.close()\n",
    "    print \"done\"\n",
    "    sorter = numpy.argsort(qids)\n",
    "    return features[sorter], qids[sorter], labels[sorter]"
   ]
  },
  {
   "cell_type": "code",
   "execution_count": 12,
   "metadata": {
    "collapsed": false
   },
   "outputs": [
    {
     "name": "stdout",
     "output_type": "stream",
     "text": [
      "reading from ../data/MSLR/mslr_train\n",
      "done\n",
      "reading from ../data/MSLR/mslr_test\n",
      "done\n"
     ]
    }
   ],
   "source": [
    "Xtr,Qtr,Ytr = load_h5(\"../data/MSLR/mslr_train\")\n",
    "Xts,Qts,Yts = load_h5(\"../data/MSLR/mslr_test\")"
   ]
  },
  {
   "cell_type": "code",
   "execution_count": 32,
   "metadata": {
    "collapsed": false
   },
   "outputs": [
    {
     "name": "stdout",
     "output_type": "stream",
     "text": [
      "723412 241521\n"
     ]
    }
   ],
   "source": [
    "print len(Xtr), len(Xts)"
   ]
  },
  {
   "cell_type": "code",
   "execution_count": 50,
   "metadata": {
    "collapsed": true
   },
   "outputs": [],
   "source": [
    "from rep_ef.estimators import EventFilterRegressor"
   ]
  },
  {
   "cell_type": "code",
   "execution_count": 51,
   "metadata": {
    "collapsed": true
   },
   "outputs": [],
   "source": [
    "ef = EventFilterRegressor(iterations=10000, connection='test_connection', dataset_name='letor-{random}')"
   ]
  },
  {
   "cell_type": "code",
   "execution_count": null,
   "metadata": {
    "collapsed": false
   },
   "outputs": [],
   "source": [
    "%%time\n",
    "ef.fit(Xtr, Ytr)"
   ]
  },
  {
   "cell_type": "code",
   "execution_count": 63,
   "metadata": {
    "collapsed": false
   },
   "outputs": [],
   "source": [
    "import cPickle\n",
    "with open('../data/MSLR10k_ef.mx', 'w') as f:\n",
    "    cPickle.dump(ef.formula_mx, f)"
   ]
  },
  {
   "cell_type": "code",
   "execution_count": 64,
   "metadata": {
    "collapsed": true
   },
   "outputs": [],
   "source": [
    "with open('../data/MSLR10k_ef.mx', 'r') as f:\n",
    "    formula_mx = cPickle.load(f)"
   ]
  },
  {
   "cell_type": "code",
   "execution_count": 89,
   "metadata": {
    "collapsed": true
   },
   "outputs": [],
   "source": [
    "from _matrixnetapplier import MatrixnetClassifier\n",
    "from StringIO import StringIO"
   ]
  },
  {
   "cell_type": "code",
   "execution_count": 72,
   "metadata": {
    "collapsed": false
   },
   "outputs": [
    {
     "data": {
      "text/plain": [
       "0.55456890206334308"
      ]
     },
     "execution_count": 72,
     "metadata": {},
     "output_type": "execute_result"
    }
   ],
   "source": [
    "mean_squared_error(Yts, ef.predict(Xts))"
   ]
  },
  {
   "cell_type": "code",
   "execution_count": 91,
   "metadata": {
    "collapsed": false
   },
   "outputs": [
    {
     "data": {
      "text/plain": [
       "0.55456890206334308"
      ]
     },
     "execution_count": 91,
     "metadata": {},
     "output_type": "execute_result"
    }
   ],
   "source": [
    "mn = MatrixnetClassifier(StringIO(formula_mx))\n",
    "mean_squared_error(Yts, mn.apply(Xts))"
   ]
  },
  {
   "cell_type": "code",
   "execution_count": 56,
   "metadata": {
    "collapsed": false
   },
   "outputs": [],
   "source": [
    "from itertools import islice\n",
    "def plot_mse_curves(clf, step=5):\n",
    "    mses_ts = []\n",
    "    for p in islice(clf.staged_predict(Xts), None, None, step):\n",
    "        mses_ts.append(mean_squared_error(Yts, p))\n",
    "    mses_tr = []\n",
    "    for p in islice(clf.staged_predict(Xtr), None, None, step):\n",
    "        mses_tr.append(mean_squared_error(Ytr, p))\n",
    "    plot(mses_ts)\n",
    "    plot(mses_tr)\n",
    "    return mses_tr, mses_ts"
   ]
  },
  {
   "cell_type": "code",
   "execution_count": 93,
   "metadata": {
    "collapsed": false
   },
   "outputs": [
    {
     "data": {
      "text/plain": [
       "((0.5, 0.6), None)"
      ]
     },
     "execution_count": 93,
     "metadata": {},
     "output_type": "execute_result"
    },
    {
     "data": {
      "image/png": "[encoded data removed]",
      "text/plain": [
       "<matplotlib.figure.Figure at 0x52bbb50>"
      ]
     },
     "metadata": {},
     "output_type": "display_data"
    }
   ],
   "source": [
    "mses_ef = plot_mse_curves(ef)\n",
    "ylim(0.5, 0.6), grid()"
   ]
  },
  {
   "cell_type": "code",
   "execution_count": 60,
   "metadata": {
    "collapsed": false
   },
   "outputs": [
    {
     "data": {
      "text/plain": [
       "(0.50697425031279097,\n",
       " 0.55458356173258117,\n",
       " [0.55475070471440302,\n",
       "  0.55473671464244989,\n",
       "  0.55472513045849425,\n",
       "  0.55470452983041052,\n",
       "  0.55467808433063848,\n",
       "  0.55465632072651216,\n",
       "  0.55463884809056962,\n",
       "  0.55461392479790939,\n",
       "  0.55460524375293818,\n",
       "  0.55458356173258117])"
      ]
     },
     "execution_count": 60,
     "metadata": {},
     "output_type": "execute_result"
    }
   ],
   "source": [
    "min(mses_ef[0]), min(mses_ef[1]), mses_ef[1][-10:]"
   ]
  }
 ],
 "metadata": {
  "kernelspec": {
   "display_name": "Python 2",
   "language": "python",
   "name": "python2"
  },
  "language_info": {
   "codemirror_mode": {
    "name": "ipython",
    "version": 2
   },
   "file_extension": ".py",
   "mimetype": "text/x-python",
   "name": "python",
   "nbconvert_exporter": "python",
   "pygments_lexer": "ipython2",
   "version": "2.7.3"
  }
 },
 "nbformat": 4,
 "nbformat_minor": 0
}
