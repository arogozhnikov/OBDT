{
 "cells": [
  {
   "cell_type": "code",
   "execution_count": 1,
   "metadata": {
    "collapsed": true
   },
   "outputs": [],
   "source": [
    "import sys\n",
    "sys.path.insert(0, '..')"
   ]
  },
  {
   "cell_type": "code",
   "execution_count": 2,
   "metadata": {
    "collapsed": false
   },
   "outputs": [],
   "source": [
    "import numpy\n",
    "from six import BytesIO\n",
    "from pruning import alternative_applier, utils\n",
    "from pruning._matrixnetapplier import MatrixnetClassifier"
   ]
  },
  {
   "cell_type": "code",
   "execution_count": 3,
   "metadata": {
    "collapsed": true
   },
   "outputs": [],
   "source": [
    "mx_filename='../pruning/formula100.mx'\n",
    "higgs_filename='../../../datasets/higgs/training.csv'"
   ]
  },
  {
   "cell_type": "code",
   "execution_count": 4,
   "metadata": {
    "collapsed": true
   },
   "outputs": [],
   "source": [
    "with open(mx_filename, 'rb') as mx:\n",
    "    formula_mx = mx.read()\n",
    "\n",
    "X, y, w = utils.get_higgs_data(higgs_filename)"
   ]
  },
  {
   "cell_type": "code",
   "execution_count": 5,
   "metadata": {
    "collapsed": false
   },
   "outputs": [
    {
     "data": {
      "text/plain": [
       "100000"
      ]
     },
     "execution_count": 5,
     "metadata": {},
     "output_type": "execute_result"
    }
   ],
   "source": [
    "X = X[:100000]\n",
    "len(X)"
   ]
  },
  {
   "cell_type": "markdown",
   "metadata": {},
   "source": [
    "### Vectorization for every tree"
   ]
  },
  {
   "cell_type": "code",
   "execution_count": 6,
   "metadata": {
    "collapsed": true
   },
   "outputs": [],
   "source": [
    "mn = MatrixnetClassifier(BytesIO(formula_mx))"
   ]
  },
  {
   "cell_type": "code",
   "execution_count": 7,
   "metadata": {
    "collapsed": false
   },
   "outputs": [
    {
     "name": "stdout",
     "output_type": "stream",
     "text": [
      "CPU times: user 192 ms, sys: 42.5 ms, total: 235 ms\n",
      "Wall time: 289 ms\n"
     ]
    }
   ],
   "source": [
    "%%time\n",
    "mn_predictions = mn.apply(X)"
   ]
  },
  {
   "cell_type": "markdown",
   "metadata": {},
   "source": [
    "### Vectorization for every sample"
   ]
  },
  {
   "cell_type": "code",
   "execution_count": 8,
   "metadata": {
    "collapsed": false
   },
   "outputs": [],
   "source": [
    "new_mn = alternative_applier.convert_mx_to_alternative(formula_mx)"
   ]
  },
  {
   "cell_type": "code",
   "execution_count": 9,
   "metadata": {
    "collapsed": false
   },
   "outputs": [
    {
     "name": "stdout",
     "output_type": "stream",
     "text": [
      "CPU times: user 3.91 s, sys: 25.3 ms, total: 3.93 s\n",
      "Wall time: 3.98 s\n"
     ]
    }
   ],
   "source": [
    "%%time\n",
    "new_mn_predictions_fast = new_mn.decision_function_fast(X)"
   ]
  },
  {
   "cell_type": "code",
   "execution_count": 10,
   "metadata": {
    "collapsed": false
   },
   "outputs": [
    {
     "data": {
      "text/plain": [
       "<line_profiler.LineProfiler at 0x1182bb738>"
      ]
     },
     "execution_count": 10,
     "metadata": {},
     "output_type": "execute_result"
    }
   ],
   "source": [
    "import line_profiler\n",
    "lp = line_profiler.LineProfiler()\n",
    "lp.add_function(new_mn.decision_function_fast)\n",
    "lp.run('new_mn_predictions = new_mn.decision_function_fast(X)')"
   ]
  },
  {
   "cell_type": "code",
   "execution_count": 11,
   "metadata": {
    "collapsed": false
   },
   "outputs": [
    {
     "name": "stdout",
     "output_type": "stream",
     "text": [
      "Timer unit: 1e-06 s\n",
      "\n",
      "Total time: 4.68835 s\n",
      "File: ../pruning/alternative_applier.py\n",
      "Function: decision_function_fast at line 81\n",
      "\n",
      "Line #      Hits         Time  Per Hit   % Time  Line Contents\n",
      "==============================================================\n",
      "    81                                               def decision_function_fast(self, X):\n",
      "    82                                                   # taking appropriate columns\n",
      "    83         1           19     19.0      0.0          assert len(self.features) == X.shape[1]\n",
      "    84         1        16490  16490.0      0.4          X = numpy.array(X, dtype='float32')\n",
      "    85         1          167    167.0      0.0          result = numpy.zeros(len(X), dtype=float)\n",
      "    86                                           \n",
      "    87         1           10     10.0      0.0          feature_ids = self.feature_ids[:, ::-1].T\n",
      "    88         1            3      3.0      0.0          feature_cuts = self.feature_cuts[:, ::-1].T\n",
      "    89         1           23     23.0      0.0          raveled_leaf_values = numpy.zeros(256 * self.n_trees, dtype='float32')\n",
      "    90         1           17     17.0      0.0          leaves_range = numpy.arange(self.n_trees * 2 ** self.depth)\n",
      "    91         1           91     91.0      0.0          raveled_leaf_values[leaves_range << 2] = self.leaf_values.ravel()\n",
      "    92         1           12     12.0      0.0          tree_shifts = numpy.arange(self.n_trees) * 256\n",
      "    93                                           \n",
      "    94    100001       143380      1.4      3.1          for event_id in range(len(X)):\n",
      "    95    100000       215845      2.2      4.6              event = X[event_id, :]\n",
      "    96    100000      1502141     15.0     32.0              bits = event[feature_ids] > feature_cuts\n",
      "    97    100000      1111708     11.1     23.7              leaf_indices = numpy.packbits(bits.view('int8'), axis=0)\n",
      "    98    100000      1698443     17.0     36.2              result[event_id] = raveled_leaf_values[tree_shifts + leaf_indices].sum()\n",
      "    99                                           \n",
      "   100         1            6      6.0      0.0          return result\n",
      "\n"
     ]
    }
   ],
   "source": [
    "lp.print_stats()"
   ]
  },
  {
   "cell_type": "markdown",
   "metadata": {},
   "source": [
    "### Cython event-by-event"
   ]
  },
  {
   "cell_type": "code",
   "execution_count": 12,
   "metadata": {
    "collapsed": true
   },
   "outputs": [],
   "source": [
    "from embedded_matrixnet import MatrixnetClassifier as CythonApplier"
   ]
  },
  {
   "cell_type": "code",
   "execution_count": 13,
   "metadata": {
    "collapsed": false
   },
   "outputs": [],
   "source": [
    "cython_mn = CythonApplier(BytesIO(formula_mx))"
   ]
  },
  {
   "cell_type": "code",
   "execution_count": 14,
   "metadata": {
    "collapsed": false
   },
   "outputs": [
    {
     "name": "stdout",
     "output_type": "stream",
     "text": [
      "CPU times: user 4min 18s, sys: 1.99 s, total: 4min 20s\n",
      "Wall time: 4min 31s\n"
     ]
    }
   ],
   "source": [
    "%%time\n",
    "for id, event in X.iterrows():\n",
    "    cython_mn.apply(dict(event))"
   ]
  }
 ],
 "metadata": {
  "kernelspec": {
   "display_name": "Python 2",
   "language": "python",
   "name": "python2"
  },
  "language_info": {
   "codemirror_mode": {
    "name": "ipython",
    "version": 2
   },
   "file_extension": ".py",
   "mimetype": "text/x-python",
   "name": "python",
   "nbconvert_exporter": "python",
   "pygments_lexer": "ipython2",
   "version": "2.7.5"
  }
 },
 "nbformat": 4,
 "nbformat_minor": 0
}
