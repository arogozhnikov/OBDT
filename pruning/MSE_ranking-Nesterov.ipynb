{
 "cells": [
  {
   "cell_type": "markdown",
   "metadata": {},
   "source": [
    "## Testing simple truncator"
   ]
  },
  {
   "cell_type": "code",
   "execution_count": 1,
   "metadata": {
    "collapsed": false
   },
   "outputs": [
    {
     "name": "stdout",
     "output_type": "stream",
     "text": [
      "Populating the interactive namespace from numpy and matplotlib\n"
     ]
    }
   ],
   "source": [
    "%pylab inline"
   ]
  },
  {
   "cell_type": "code",
   "execution_count": 2,
   "metadata": {
    "collapsed": false
   },
   "outputs": [],
   "source": [
    "import h5py\n",
    "import pandas\n",
    "from sklearn.metrics import mean_squared_error\n",
    "from rep_ef.estimators import EventFilterRegressor\n",
    "import cPickle\n",
    "from six import BytesIO"
   ]
  },
  {
   "cell_type": "code",
   "execution_count": 3,
   "metadata": {
    "collapsed": true
   },
   "outputs": [],
   "source": [
    "def load_h5(name):\n",
    "    print \"reading from\",name\n",
    "    h5f = h5py.File(name,'r')\n",
    "    labels = h5f['labels'][:]\n",
    "    qids = h5f['qids'][:]\n",
    "    features = h5f['features'][:]\n",
    "    h5f.close()\n",
    "    print \"done\"\n",
    "    sorter = numpy.argsort(qids)\n",
    "    return features[sorter], qids[sorter], labels[sorter]"
   ]
  },
  {
   "cell_type": "code",
   "execution_count": 4,
   "metadata": {
    "collapsed": false
   },
   "outputs": [
    {
     "name": "stdout",
     "output_type": "stream",
     "text": [
      "reading from ../data/MSLR/mslr_train\n",
      "done\n",
      "reading from ../data/MSLR/mslr_test\n",
      "done\n"
     ]
    }
   ],
   "source": [
    "Xtr,Qtr,Ytr = load_h5(\"../data/MSLR/mslr_train\")\n",
    "Xts,Qts,Yts = load_h5(\"../data/MSLR/mslr_test\")"
   ]
  },
  {
   "cell_type": "code",
   "execution_count": 5,
   "metadata": {
    "collapsed": false
   },
   "outputs": [
    {
     "name": "stdout",
     "output_type": "stream",
     "text": [
      "723412 241521\n"
     ]
    }
   ],
   "source": [
    "print len(Xtr), len(Xts)"
   ]
  },
  {
   "cell_type": "code",
   "execution_count": 6,
   "metadata": {
    "collapsed": true
   },
   "outputs": [],
   "source": [
    "# ef = EventFilterRegressor(iterations=10000, connection='test_connection', dataset_name='letor-{random}')\n",
    "# ef.fit(Xtr, Ytr)"
   ]
  },
  {
   "cell_type": "code",
   "execution_count": 7,
   "metadata": {
    "collapsed": false
   },
   "outputs": [],
   "source": [
    "# import cPickle\n",
    "# with open('../data/MSLR10k_ef.mx', 'w') as f:\n",
    "#     cPickle.dump(ef.formula_mx, f)"
   ]
  },
  {
   "cell_type": "code",
   "execution_count": 8,
   "metadata": {
    "collapsed": false
   },
   "outputs": [],
   "source": [
    "import cPickle\n",
    "with open('../data/MSLR10k_ef.mx', 'r') as f:\n",
    "    formula_mx = cPickle.load(f)"
   ]
  },
  {
   "cell_type": "code",
   "execution_count": 9,
   "metadata": {
    "collapsed": true
   },
   "outputs": [],
   "source": [
    "from _matrixnetapplier import MatrixnetClassifier\n",
    "from StringIO import StringIO"
   ]
  },
  {
   "cell_type": "code",
   "execution_count": 10,
   "metadata": {
    "collapsed": true
   },
   "outputs": [],
   "source": [
    "mn = MatrixnetClassifier(StringIO(formula_mx))"
   ]
  },
  {
   "cell_type": "code",
   "execution_count": 11,
   "metadata": {
    "collapsed": false
   },
   "outputs": [
    {
     "data": {
      "text/plain": [
       "0.55456890206334308"
      ]
     },
     "execution_count": 11,
     "metadata": {},
     "output_type": "execute_result"
    }
   ],
   "source": [
    "mean_squared_error(Yts, mn.apply(Xts))"
   ]
  },
  {
   "cell_type": "code",
   "execution_count": 12,
   "metadata": {
    "collapsed": false
   },
   "outputs": [],
   "source": [
    "sys.path.insert(0, '..')\n",
    "from pruning import greedy, utils, _matrixnetapplier"
   ]
  },
  {
   "cell_type": "code",
   "execution_count": 13,
   "metadata": {
    "collapsed": true
   },
   "outputs": [],
   "source": [
    "from hep_ml.losses import MSELossFunction, AbstractLossFunction"
   ]
  },
  {
   "cell_type": "code",
   "execution_count": 14,
   "metadata": {
    "collapsed": true
   },
   "outputs": [],
   "source": [
    "Xtr = numpy.array(Xtr, dtype='float32', order='F')\n",
    "Xts = numpy.array(Xts, dtype='float32', order='F')\n",
    "Wtr = Ytr * 0 + 1.\n",
    "Wts = Yts * 0 + 1."
   ]
  },
  {
   "cell_type": "markdown",
   "metadata": {},
   "source": [
    "## Training many classifiers"
   ]
  },
  {
   "cell_type": "code",
   "execution_count": null,
   "metadata": {
    "collapsed": true
   },
   "outputs": [],
   "source": [
    "from collections import OrderedDict\n",
    "trained_formulas = OrderedDict()"
   ]
  },
  {
   "cell_type": "code",
   "execution_count": 28,
   "metadata": {
    "collapsed": false
   },
   "outputs": [
    {
     "name": "stdout",
     "output_type": "stream",
     "text": [
      "done\n",
      "done\n",
      "done\n"
     ]
    }
   ],
   "source": [
    "for reg in [3000]:\n",
    "    for learning_rate in [0.1, 0.2, 0.3]:\n",
    "        for nn_steps in [5]:\n",
    "            pruner = greedy.NesterovPruner(loss_function=MSELossFunction(), learning_rate=learning_rate,\n",
    "                                           n_nesterov_steps=nn_steps, iterations=200, n_kept_best=5, \n",
    "                                           regularization=reg)\n",
    "            trained_formulas['{} {} {}'.format(reg, learning_rate, nn_steps)] = \\\n",
    "                pruner.prune(formula_mx, Xtr, Ytr, Wtr)\n",
    "            with open('../data/pickled_trunced_rankers.pkl', 'w') as f:\n",
    "                cPickle.dump(trained_formulas, f)\n",
    "            print 'done'"
   ]
  },
  {
   "cell_type": "markdown",
   "metadata": {},
   "source": [
    "## Loading result"
   ]
  },
  {
   "cell_type": "code",
   "execution_count": 29,
   "metadata": {
    "collapsed": true
   },
   "outputs": [],
   "source": [
    "from collections import OrderedDict\n",
    "with open('../data/pickled_trunced_rankers.pkl', 'r') as f:\n",
    "    trained_formulas = cPickle.load(f)"
   ]
  },
  {
   "cell_type": "markdown",
   "metadata": {},
   "source": [
    "# Testing rankers"
   ]
  },
  {
   "cell_type": "markdown",
   "metadata": {},
   "source": [
    "### test predictions"
   ]
  },
  {
   "cell_type": "code",
   "execution_count": 30,
   "metadata": {
    "collapsed": false
   },
   "outputs": [
    {
     "name": "stdout",
     "output_type": "stream",
     "text": [
      "3000 0.1 0 201 0.568492467479\n",
      "3000 0.1 2 201 0.569183730824\n",
      "3000 0.2 0 201 0.563727103495\n",
      "3000 0.2 2 201 0.564163301105\n",
      "3000 0.3 0 201 0.56252305389\n",
      "3000 0.3 2 201 0.562470333855\n",
      "3000 0.1 5 201 0.628157312012\n",
      "3000 0.2 5 201 0.622211490262\n",
      "3000 0.3 5 201 0.6178385706\n"
     ]
    }
   ],
   "source": [
    "minimals = OrderedDict()\n",
    "for name, clf in trained_formulas.items():\n",
    "    values = []\n",
    "    for pred in clf.staged_decision_function(Xts):\n",
    "        values.append(mean_squared_error(Yts, pred))\n",
    "    print name, len(values), min(values)\n",
    "    minimals[name] = min(values)"
   ]
  },
  {
   "cell_type": "markdown",
   "metadata": {},
   "source": [
    "### train predictions"
   ]
  },
  {
   "cell_type": "code",
   "execution_count": 31,
   "metadata": {
    "collapsed": false
   },
   "outputs": [
    {
     "name": "stdout",
     "output_type": "stream",
     "text": [
      "3000 0.1 0 201 0.54696784568\n",
      "3000 0.1 2 201 0.547945276478\n",
      "3000 0.2 0 201 0.537840307543\n",
      "3000 0.2 2 201 0.538231246977\n",
      "3000 0.3 0 201 0.532328166976\n",
      "3000 0.3 2 201 0.532811674177\n",
      "3000 0.1 5 201 0.607667105219\n",
      "3000 0.2 5 201 0.602486203922\n",
      "3000 0.3 5 201 0.597530221453\n"
     ]
    }
   ],
   "source": [
    "minimals = OrderedDict()\n",
    "for name, clf in trained_formulas.items():\n",
    "    values = []\n",
    "    for pred in clf.staged_decision_function(Xtr):\n",
    "        values.append(mean_squared_error(Ytr, pred))\n",
    "    print name, len(values), min(values)\n",
    "    minimals[name] = min(values)"
   ]
  },
  {
   "cell_type": "code",
   "execution_count": 32,
   "metadata": {
    "collapsed": false
   },
   "outputs": [],
   "source": [
    "from itertools import islice\n",
    "def plot_mse_curves(clf, step=5, stop=None):\n",
    "    mses_ts = []\n",
    "    for p in islice(clf.staged_decision_function(Xts), None, stop, step):\n",
    "        mses_ts.append(mean_squared_error(Yts, p))\n",
    "    mses_tr = []\n",
    "    for p in islice(clf.staged_decision_function(Xtr), None, stop, step):\n",
    "        mses_tr.append(mean_squared_error(Ytr, p))\n",
    "    plot(mses_ts, label='test')\n",
    "    plot(mses_tr, label='train')\n",
    "\n",
    "    return mses_tr, mses_ts"
   ]
  },
  {
   "cell_type": "code",
   "execution_count": 33,
   "metadata": {
    "collapsed": false,
    "scrolled": false
   },
   "outputs": [
    {
     "name": "stdout",
     "output_type": "stream",
     "text": [
      "3000 0.1 0\n"
     ]
    },
    {
     "data": {
      "image/png": "[encoded data removed]",
      "text/plain": [
       "<matplotlib.figure.Figure at 0x96f0ad0>"
      ]
     },
     "metadata": {},
     "output_type": "display_data"
    },
    {
     "name": "stdout",
     "output_type": "stream",
     "text": [
      "3000 0.1 2\n"
     ]
    },
    {
     "data": {
      "image/png": "[encoded data removed]",
      "text/plain": [
       "<matplotlib.figure.Figure at 0x8793810>"
      ]
     },
     "metadata": {},
     "output_type": "display_data"
    },
    {
     "name": "stdout",
     "output_type": "stream",
     "text": [
      "3000 0.2 0\n"
     ]
    },
    {
     "data": {
      "image/png": "[encoded data removed]",
      "text/plain": [
       "<matplotlib.figure.Figure at 0x96e0690>"
      ]
     },
     "metadata": {},
     "output_type": "display_data"
    },
    {
     "name": "stdout",
     "output_type": "stream",
     "text": [
      "3000 0.2 2\n"
     ]
    },
    {
     "data": {
      "image/png": "[encoded data removed]",
      "text/plain": [
       "<matplotlib.figure.Figure at 0x5380d50>"
      ]
     },
     "metadata": {},
     "output_type": "display_data"
    },
    {
     "name": "stdout",
     "output_type": "stream",
     "text": [
      "3000 0.3 0\n"
     ]
    },
    {
     "data": {
      "image/png": "[encoded data removed]",
      "text/plain": [
       "<matplotlib.figure.Figure at 0x1f7f510>"
      ]
     },
     "metadata": {},
     "output_type": "display_data"
    },
    {
     "name": "stdout",
     "output_type": "stream",
     "text": [
      "3000 0.3 2\n"
     ]
    },
    {
     "data": {
      "image/png": "[encoded data removed]",
      "text/plain": [
       "<matplotlib.figure.Figure at 0x1f08f50>"
      ]
     },
     "metadata": {},
     "output_type": "display_data"
    },
    {
     "name": "stdout",
     "output_type": "stream",
     "text": [
      "3000 0.1 5\n"
     ]
    },
    {
     "data": {
      "image/png": "[encoded data removed]",
      "text/plain": [
       "<matplotlib.figure.Figure at 0x2f33b10>"
      ]
     },
     "metadata": {},
     "output_type": "display_data"
    },
    {
     "name": "stdout",
     "output_type": "stream",
     "text": [
      "3000 0.2 5\n"
     ]
    },
    {
     "data": {
      "image/png": "[encoded data removed]",
      "text/plain": [
       "<matplotlib.figure.Figure at 0x5380d50>"
      ]
     },
     "metadata": {},
     "output_type": "display_data"
    },
    {
     "name": "stdout",
     "output_type": "stream",
     "text": [
      "3000 0.3 5\n"
     ]
    },
    {
     "data": {
      "image/png": "[encoded data removed]",
      "text/plain": [
       "<matplotlib.figure.Figure at 0x5cdcf50>"
      ]
     },
     "metadata": {},
     "output_type": "display_data"
    }
   ],
   "source": [
    "for name, clf in trained_formulas.items():\n",
    "    mses_ef = plot_mse_curves(clf, step=5)\n",
    "    ylim(0.5, 0.6), grid()\n",
    "    print name\n",
    "    show()"
   ]
  },
  {
   "cell_type": "code",
   "execution_count": 34,
   "metadata": {
    "collapsed": false
   },
   "outputs": [
    {
     "data": {
      "text/plain": [
       "['3000 0.1 0',\n",
       " '3000 0.1 2',\n",
       " '3000 0.2 0',\n",
       " '3000 0.2 2',\n",
       " '3000 0.3 0',\n",
       " '3000 0.3 2',\n",
       " '3000 0.1 5',\n",
       " '3000 0.2 5',\n",
       " '3000 0.3 5']"
      ]
     },
     "execution_count": 34,
     "metadata": {},
     "output_type": "execute_result"
    }
   ],
   "source": [
    "trained_formulas.keys()"
   ]
  },
  {
   "cell_type": "code",
   "execution_count": null,
   "metadata": {
    "collapsed": true
   },
   "outputs": [],
   "source": []
  }
 ],
 "metadata": {
  "kernelspec": {
   "display_name": "Python 2",
   "language": "python",
   "name": "python2"
  },
  "language_info": {
   "codemirror_mode": {
    "name": "ipython",
    "version": 2
   },
   "file_extension": ".py",
   "mimetype": "text/x-python",
   "name": "python",
   "nbconvert_exporter": "python",
   "pygments_lexer": "ipython2",
   "version": "2.7.3"
  }
 },
 "nbformat": 4,
 "nbformat_minor": 0
}
